{
  "nbformat": 4,
  "nbformat_minor": 0,
  "metadata": {
    "colab": {
      "provenance": []
    },
    "kernelspec": {
      "name": "python3",
      "display_name": "Python 3"
    },
    "language_info": {
      "name": "python"
    }
  },
  "cells": [
    {
      "cell_type": "markdown",
      "source": [
        "# Lanzamiento de dos dados"
      ],
      "metadata": {
        "id": "Zc9c6fpH7tOx"
      }
    },
    {
      "cell_type": "markdown",
      "source": [
        "**Alumno:** Eduardo Elías Flores Solís"
      ],
      "metadata": {
        "id": "okG3co4d3BaN"
      }
    },
    {
      "cell_type": "markdown",
      "source": [
        "## Diccionarios:\n",
        "\n",
        "$$\\{\\text{key}:\\text{values}\\}.$$"
      ],
      "metadata": {
        "id": "oGwp3O6m76DD"
      }
    },
    {
      "cell_type": "code",
      "execution_count": 1,
      "metadata": {
        "id": "bAXTxjQXsLZp"
      },
      "outputs": [],
      "source": [
        "d = {\"César\": [\"Masha\", \"Mila\", \"Sneg\"],\n",
        "     \"Julio\": [3, 10, 12],\n",
        "     \"Gal\": [7.0, 5.0, 6.0]}"
      ]
    },
    {
      "cell_type": "code",
      "source": [
        "type(d)"
      ],
      "metadata": {
        "colab": {
          "base_uri": "https://localhost:8080/"
        },
        "id": "1U0xkzVA9jC1",
        "outputId": "8d7575fe-0708-4ddc-d2cc-aabff459b632"
      },
      "execution_count": 2,
      "outputs": [
        {
          "output_type": "execute_result",
          "data": {
            "text/plain": [
              "dict"
            ]
          },
          "metadata": {},
          "execution_count": 2
        }
      ]
    },
    {
      "cell_type": "code",
      "source": [
        "d.keys() # Son las llaves de un diccionario"
      ],
      "metadata": {
        "colab": {
          "base_uri": "https://localhost:8080/"
        },
        "id": "CswA0Ax-9vBS",
        "outputId": "1181292e-cdb4-461f-a90b-323fd6bb20a5"
      },
      "execution_count": 3,
      "outputs": [
        {
          "output_type": "execute_result",
          "data": {
            "text/plain": [
              "dict_keys(['César', 'Julio', 'Gal'])"
            ]
          },
          "metadata": {},
          "execution_count": 3
        }
      ]
    },
    {
      "cell_type": "code",
      "source": [
        "d.values()"
      ],
      "metadata": {
        "colab": {
          "base_uri": "https://localhost:8080/"
        },
        "id": "vqeYQNbG-vHC",
        "outputId": "6d3bd155-5b0f-4e39-ab53-34189d9a2d00"
      },
      "execution_count": 4,
      "outputs": [
        {
          "output_type": "execute_result",
          "data": {
            "text/plain": [
              "dict_values([['Masha', 'Mila', 'Sneg'], [3, 10, 12], [7.0, 5.0, 6.0]])"
            ]
          },
          "metadata": {},
          "execution_count": 4
        }
      ]
    },
    {
      "cell_type": "code",
      "source": [
        "d.items()"
      ],
      "metadata": {
        "colab": {
          "base_uri": "https://localhost:8080/"
        },
        "id": "5UhJcXwg-zoI",
        "outputId": "d5e53ff6-b1d1-4630-98ae-88714345a2e8"
      },
      "execution_count": 5,
      "outputs": [
        {
          "output_type": "execute_result",
          "data": {
            "text/plain": [
              "dict_items([('César', ['Masha', 'Mila', 'Sneg']), ('Julio', [3, 10, 12]), ('Gal', [7.0, 5.0, 6.0])])"
            ]
          },
          "metadata": {},
          "execution_count": 5
        }
      ]
    },
    {
      "cell_type": "markdown",
      "source": [
        "## Se lanzan dos dados justos:\n",
        "\n",
        "- $\\Omega = \\{1,2,3,4,5,6\\}\\times \\{1,2,3,4,5,6 \\}$.\n",
        "- $\\mathcal{F}=p(\\Omega)$.\n",
        "- Para $\\omega=(i,j)$ donde $i, j=1,\\dots, 6$\n",
        "$$\\mathbb{P}(\\{\\omega\\})=\\frac{1}{36}.$$\n",
        "\n",
        "-----\n",
        "\n",
        "## Vamos a definir a la siguiente variable aleatoria:\n",
        "$S$ es la variable aleatoria que cuenta la suma de las caras de los dados.\n",
        "\n",
        "$$S:\\Omega \\to R_{S}=\\{2, 3, 4, 5, 6, 7, 8, 9, 10, 11, 12 \\}$$"
      ],
      "metadata": {
        "id": "0pEgDmSl_zEw"
      }
    },
    {
      "cell_type": "markdown",
      "source": [
        "Para entender a la ley de la variable aleatoria, basta con entender a los siguientes datos:\n",
        "$$\\{(k, \\mathbb{P}(S=k)) \\}_{k\\in R_{S}}.$$"
      ],
      "metadata": {
        "id": "pR4lIByoCm4X"
      }
    },
    {
      "cell_type": "markdown",
      "source": [
        "Veamos a $S$ como eventos. Sea $S_{n}$ el evento la suma de las caras es $n$."
      ],
      "metadata": {
        "id": "LV_YVSpYDo5x"
      }
    },
    {
      "cell_type": "code",
      "source": [
        "from itertools import product\n",
        "from fractions import Fraction"
      ],
      "metadata": {
        "id": "3D7SUivV_XGG"
      },
      "execution_count": 6,
      "outputs": []
    },
    {
      "cell_type": "code",
      "source": [
        "def P(A, Omega):\n",
        "  P = Fraction(len(A), len(Omega) )\n",
        "  return P"
      ],
      "metadata": {
        "id": "NMZ4hgiKEIu0"
      },
      "execution_count": 7,
      "outputs": []
    },
    {
      "cell_type": "markdown",
      "source": [
        "$$S_{n}=\\{(i,j)\\in \\Omega : i+j =n \\}$$"
      ],
      "metadata": {
        "id": "c97Faj-dEfvz"
      }
    },
    {
      "cell_type": "code",
      "source": [
        "S_2 = {(i,j) for i in range(1,7) for j in range(1,7) if i+j == 2 }\n",
        "S_2"
      ],
      "metadata": {
        "colab": {
          "base_uri": "https://localhost:8080/"
        },
        "id": "xdKgALyfEdBJ",
        "outputId": "9c551db3-c31d-43b4-f98c-0546e90eeb04"
      },
      "execution_count": 8,
      "outputs": [
        {
          "output_type": "execute_result",
          "data": {
            "text/plain": [
              "{(1, 1)}"
            ]
          },
          "metadata": {},
          "execution_count": 8
        }
      ]
    },
    {
      "cell_type": "code",
      "source": [
        "L = [i for i in range(1,7)]\n",
        "\n",
        "Omega = set(product(L, repeat =2 ))\n",
        "Omega"
      ],
      "metadata": {
        "colab": {
          "base_uri": "https://localhost:8080/"
        },
        "id": "WiGgELw9FrJy",
        "outputId": "cab2ce14-200f-4ce3-a0da-e1c7b1da371c"
      },
      "execution_count": 9,
      "outputs": [
        {
          "output_type": "execute_result",
          "data": {
            "text/plain": [
              "{(1, 1),\n",
              " (1, 2),\n",
              " (1, 3),\n",
              " (1, 4),\n",
              " (1, 5),\n",
              " (1, 6),\n",
              " (2, 1),\n",
              " (2, 2),\n",
              " (2, 3),\n",
              " (2, 4),\n",
              " (2, 5),\n",
              " (2, 6),\n",
              " (3, 1),\n",
              " (3, 2),\n",
              " (3, 3),\n",
              " (3, 4),\n",
              " (3, 5),\n",
              " (3, 6),\n",
              " (4, 1),\n",
              " (4, 2),\n",
              " (4, 3),\n",
              " (4, 4),\n",
              " (4, 5),\n",
              " (4, 6),\n",
              " (5, 1),\n",
              " (5, 2),\n",
              " (5, 3),\n",
              " (5, 4),\n",
              " (5, 5),\n",
              " (5, 6),\n",
              " (6, 1),\n",
              " (6, 2),\n",
              " (6, 3),\n",
              " (6, 4),\n",
              " (6, 5),\n",
              " (6, 6)}"
            ]
          },
          "metadata": {},
          "execution_count": 9
        }
      ]
    },
    {
      "cell_type": "code",
      "source": [
        "S = {(i,j): i+j for i,j in Omega}\n",
        "\n",
        "S"
      ],
      "metadata": {
        "colab": {
          "base_uri": "https://localhost:8080/"
        },
        "id": "i0vdEmDRFZG5",
        "outputId": "18c552dd-cb8e-4468-f059-fc7d7eac2ec0"
      },
      "execution_count": 10,
      "outputs": [
        {
          "output_type": "execute_result",
          "data": {
            "text/plain": [
              "{(3, 4): 7,\n",
              " (4, 3): 7,\n",
              " (3, 1): 4,\n",
              " (5, 4): 9,\n",
              " (4, 6): 10,\n",
              " (5, 1): 6,\n",
              " (2, 2): 4,\n",
              " (1, 6): 7,\n",
              " (2, 5): 7,\n",
              " (1, 3): 4,\n",
              " (6, 2): 8,\n",
              " (6, 5): 11,\n",
              " (4, 2): 6,\n",
              " (4, 5): 9,\n",
              " (3, 3): 6,\n",
              " (5, 6): 11,\n",
              " (3, 6): 9,\n",
              " (5, 3): 8,\n",
              " (2, 4): 6,\n",
              " (1, 2): 3,\n",
              " (2, 1): 3,\n",
              " (1, 5): 6,\n",
              " (6, 1): 7,\n",
              " (6, 4): 10,\n",
              " (3, 2): 5,\n",
              " (4, 1): 5,\n",
              " (3, 5): 8,\n",
              " (5, 2): 7,\n",
              " (4, 4): 8,\n",
              " (5, 5): 10,\n",
              " (1, 1): 2,\n",
              " (1, 4): 5,\n",
              " (2, 3): 5,\n",
              " (2, 6): 8,\n",
              " (6, 6): 12,\n",
              " (6, 3): 9}"
            ]
          },
          "metadata": {},
          "execution_count": 10
        }
      ]
    },
    {
      "cell_type": "code",
      "source": [
        "from collections import defaultdict\n",
        "\n",
        "dS = defaultdict(set)\n",
        "dS"
      ],
      "metadata": {
        "colab": {
          "base_uri": "https://localhost:8080/"
        },
        "id": "tCdZjkJ4GbQK",
        "outputId": "41eab174-3477-4164-f9f3-60292852eafd"
      },
      "execution_count": 11,
      "outputs": [
        {
          "output_type": "execute_result",
          "data": {
            "text/plain": [
              "defaultdict(set, {})"
            ]
          },
          "metadata": {},
          "execution_count": 11
        }
      ]
    },
    {
      "cell_type": "code",
      "source": [
        "for l, v in S.items():\n",
        "  dS[v].add(l)"
      ],
      "metadata": {
        "id": "0wQQasi-HYLf"
      },
      "execution_count": 12,
      "outputs": []
    },
    {
      "cell_type": "code",
      "source": [
        "dS"
      ],
      "metadata": {
        "colab": {
          "base_uri": "https://localhost:8080/"
        },
        "id": "LzTW-QyBHt-d",
        "outputId": "11ba1f29-0301-4e02-c30b-6c42c4de11c1"
      },
      "execution_count": 13,
      "outputs": [
        {
          "output_type": "execute_result",
          "data": {
            "text/plain": [
              "defaultdict(set,\n",
              "            {7: {(1, 6), (2, 5), (3, 4), (4, 3), (5, 2), (6, 1)},\n",
              "             4: {(1, 3), (2, 2), (3, 1)},\n",
              "             9: {(3, 6), (4, 5), (5, 4), (6, 3)},\n",
              "             10: {(4, 6), (5, 5), (6, 4)},\n",
              "             6: {(1, 5), (2, 4), (3, 3), (4, 2), (5, 1)},\n",
              "             8: {(2, 6), (3, 5), (4, 4), (5, 3), (6, 2)},\n",
              "             11: {(5, 6), (6, 5)},\n",
              "             3: {(1, 2), (2, 1)},\n",
              "             5: {(1, 4), (2, 3), (3, 2), (4, 1)},\n",
              "             2: {(1, 1)},\n",
              "             12: {(6, 6)}})"
            ]
          },
          "metadata": {},
          "execution_count": 13
        }
      ]
    },
    {
      "cell_type": "code",
      "source": [
        "leyS = {k : P(A,Omega) for k , A in dS.items() }\n",
        "leyS"
      ],
      "metadata": {
        "colab": {
          "base_uri": "https://localhost:8080/"
        },
        "id": "brD5YygqI8wf",
        "outputId": "4462266b-1cdc-43f0-f061-ec0ec8701f18"
      },
      "execution_count": 14,
      "outputs": [
        {
          "output_type": "execute_result",
          "data": {
            "text/plain": [
              "{7: Fraction(1, 6),\n",
              " 4: Fraction(1, 12),\n",
              " 9: Fraction(1, 9),\n",
              " 10: Fraction(1, 12),\n",
              " 6: Fraction(5, 36),\n",
              " 8: Fraction(5, 36),\n",
              " 11: Fraction(1, 18),\n",
              " 3: Fraction(1, 18),\n",
              " 5: Fraction(1, 9),\n",
              " 2: Fraction(1, 36),\n",
              " 12: Fraction(1, 36)}"
            ]
          },
          "metadata": {},
          "execution_count": 14
        }
      ]
    },
    {
      "cell_type": "markdown",
      "source": [
        "## Introducción a pandas."
      ],
      "metadata": {
        "id": "zRJO-SbyJ2x0"
      }
    },
    {
      "cell_type": "code",
      "source": [
        "import pandas as pd"
      ],
      "metadata": {
        "id": "wOjQu9ZlJn09"
      },
      "execution_count": 15,
      "outputs": []
    },
    {
      "cell_type": "code",
      "source": [
        "leyS = pd.Series(leyS)\n",
        "leyS = leyS.sort_index()"
      ],
      "metadata": {
        "id": "VbH7OcRAKLxD"
      },
      "execution_count": 16,
      "outputs": []
    },
    {
      "cell_type": "code",
      "source": [
        "leyS"
      ],
      "metadata": {
        "colab": {
          "base_uri": "https://localhost:8080/"
        },
        "id": "LSep_uSVKps6",
        "outputId": "b106277e-2650-4904-880d-820f24990d85"
      },
      "execution_count": 17,
      "outputs": [
        {
          "output_type": "execute_result",
          "data": {
            "text/plain": [
              "2     1/36\n",
              "3     1/18\n",
              "4     1/12\n",
              "5      1/9\n",
              "6     5/36\n",
              "7      1/6\n",
              "8     5/36\n",
              "9      1/9\n",
              "10    1/12\n",
              "11    1/18\n",
              "12    1/36\n",
              "dtype: object"
            ]
          },
          "metadata": {},
          "execution_count": 17
        }
      ]
    },
    {
      "cell_type": "markdown",
      "source": [
        "# $\\large{\\underline{\\text{E j e r c i c i o s}}}$"
      ],
      "metadata": {
        "id": "MBFs9JMM3aur"
      }
    },
    {
      "cell_type": "markdown",
      "source": [
        "### Ejercicios:\n",
        "1.- Documenta tu colab.\n",
        "\n",
        "2.- Calcula la ley de las siguientes variables aleatorias:\n",
        "\n",
        "1.          - La diferencia de las caras sea mayor que $1$.\n",
        "\n",
        "    - La suma de las caras sea par.\n",
        "\n",
        "3.- Verifica, en cada caso, que $$\\sum_{k\\in R_{X}}\\mathbb{P}(X=x)=1.$$\n",
        "\n",
        "4.- Sube tu notebook a tu GitHub.\n",
        "\n",
        "\n"
      ],
      "metadata": {
        "id": "fqIGXqIiPZZM"
      }
    },
    {
      "cell_type": "markdown",
      "source": [
        "**Ejercicio 1.**\n",
        "\n",
        "La diferencia de las caras sea mayor que 1"
      ],
      "metadata": {
        "id": "9SvUNLsGlPR7"
      }
    },
    {
      "cell_type": "code",
      "source": [
        "# Se define la función \"P\" bajo el concepto de probabilidad Clásica\n",
        "def P(A, Omega):\n",
        "  P = Fraction(len(A), len(Omega) )\n",
        "  return P\n",
        ""
      ],
      "metadata": {
        "id": "KllS_Af0l1iy"
      },
      "execution_count": 18,
      "outputs": []
    },
    {
      "cell_type": "code",
      "source": [
        "# Generamos todos los eventos que cumplan con la restricción de que la diferencia entr caras sea mayor que 1\n",
        "Omega1 = {(i, j) for i in range (1, 7) for j in range (1, 7) if abs(i - j) > 1}\n",
        "Omega1"
      ],
      "metadata": {
        "id": "MF0vLMpJl5ay",
        "outputId": "fabc4679-fb21-4337-9485-b5f4c7333ebb",
        "colab": {
          "base_uri": "https://localhost:8080/"
        }
      },
      "execution_count": 25,
      "outputs": [
        {
          "output_type": "execute_result",
          "data": {
            "text/plain": [
              "{(1, 3),\n",
              " (1, 4),\n",
              " (1, 5),\n",
              " (1, 6),\n",
              " (2, 4),\n",
              " (2, 5),\n",
              " (2, 6),\n",
              " (3, 1),\n",
              " (3, 5),\n",
              " (3, 6),\n",
              " (4, 1),\n",
              " (4, 2),\n",
              " (4, 6),\n",
              " (5, 1),\n",
              " (5, 2),\n",
              " (5, 3),\n",
              " (6, 1),\n",
              " (6, 2),\n",
              " (6, 3),\n",
              " (6, 4)}"
            ]
          },
          "metadata": {},
          "execution_count": 25
        }
      ]
    },
    {
      "cell_type": "code",
      "source": [
        "# Se agrega la suma de las caras para cada uno de los eventos.\n",
        "S1 = {(i, j): i + j for i, j in Omega1}\n",
        "S1"
      ],
      "metadata": {
        "id": "-RDUAMgwmAFv",
        "outputId": "ab9c53d1-e783-4f89-e92e-1ca8462e08fc",
        "colab": {
          "base_uri": "https://localhost:8080/"
        }
      },
      "execution_count": 20,
      "outputs": [
        {
          "output_type": "execute_result",
          "data": {
            "text/plain": [
              "{(3, 1): 4,\n",
              " (4, 6): 10,\n",
              " (5, 1): 6,\n",
              " (1, 6): 7,\n",
              " (2, 5): 7,\n",
              " (1, 3): 4,\n",
              " (6, 2): 8,\n",
              " (4, 2): 6,\n",
              " (3, 6): 9,\n",
              " (5, 3): 8,\n",
              " (2, 4): 6,\n",
              " (1, 5): 6,\n",
              " (6, 1): 7,\n",
              " (6, 4): 10,\n",
              " (4, 1): 5,\n",
              " (3, 5): 8,\n",
              " (5, 2): 7,\n",
              " (1, 4): 5,\n",
              " (2, 6): 8,\n",
              " (6, 3): 9}"
            ]
          },
          "metadata": {},
          "execution_count": 20
        }
      ]
    },
    {
      "cell_type": "code",
      "source": [
        "dS1 = defaultdict(set)\n",
        "dS1\n",
        "defaultdict(set, {})"
      ],
      "metadata": {
        "id": "NEBXa0DymAIq",
        "outputId": "dc2352c2-a645-4747-e750-9c4d5657bc8e",
        "colab": {
          "base_uri": "https://localhost:8080/"
        }
      },
      "execution_count": 21,
      "outputs": [
        {
          "output_type": "execute_result",
          "data": {
            "text/plain": [
              "defaultdict(set, {})"
            ]
          },
          "metadata": {},
          "execution_count": 21
        }
      ]
    },
    {
      "cell_type": "code",
      "source": [
        "# Ciclo iterativo para agrupar los eventos por la suma de los dados\n",
        "for l1, v1 in S1.items():\n",
        "  dS1[v1].add(l1)\n",
        "dS1"
      ],
      "metadata": {
        "id": "nQo9iCAQmALn",
        "outputId": "d419b611-4ed4-40c2-af8b-4f45e9a3b88d",
        "colab": {
          "base_uri": "https://localhost:8080/"
        }
      },
      "execution_count": 22,
      "outputs": [
        {
          "output_type": "execute_result",
          "data": {
            "text/plain": [
              "defaultdict(set,\n",
              "            {4: {(1, 3), (3, 1)},\n",
              "             10: {(4, 6), (6, 4)},\n",
              "             6: {(1, 5), (2, 4), (4, 2), (5, 1)},\n",
              "             7: {(1, 6), (2, 5), (5, 2), (6, 1)},\n",
              "             8: {(2, 6), (3, 5), (5, 3), (6, 2)},\n",
              "             9: {(3, 6), (6, 3)},\n",
              "             5: {(1, 4), (4, 1)}})"
            ]
          },
          "metadata": {},
          "execution_count": 22
        }
      ]
    },
    {
      "cell_type": "code",
      "source": [
        "# Se agrupan los eventos con la suma de las caras y su Probabilidad asociada\n",
        "leyS1 = {k : P(A, Omega1) for k , A in dS1.items() }\n",
        "leyS1"
      ],
      "metadata": {
        "id": "0A7X0NlmmAOg",
        "outputId": "6369b654-a5b8-4c7b-ac70-0fe9cb3113d2",
        "colab": {
          "base_uri": "https://localhost:8080/"
        }
      },
      "execution_count": 23,
      "outputs": [
        {
          "output_type": "execute_result",
          "data": {
            "text/plain": [
              "{4: Fraction(1, 10),\n",
              " 10: Fraction(1, 10),\n",
              " 6: Fraction(1, 5),\n",
              " 7: Fraction(1, 5),\n",
              " 8: Fraction(1, 5),\n",
              " 9: Fraction(1, 10),\n",
              " 5: Fraction(1, 10)}"
            ]
          },
          "metadata": {},
          "execution_count": 23
        }
      ]
    },
    {
      "cell_type": "code",
      "source": [
        "# generamos una serie de pandas la suma de los dados y sus Probabilidades\n",
        "leyS1 = pd.Series(leyS1)\n",
        "leyS1 = leyS1.sort_index()\n",
        "leyS1"
      ],
      "metadata": {
        "id": "vaKJIlS4mART",
        "outputId": "6e657c2d-0eeb-4ec5-d57a-b6b875bb3e6c",
        "colab": {
          "base_uri": "https://localhost:8080/"
        }
      },
      "execution_count": 24,
      "outputs": [
        {
          "output_type": "execute_result",
          "data": {
            "text/plain": [
              "4     1/10\n",
              "5     1/10\n",
              "6      1/5\n",
              "7      1/5\n",
              "8      1/5\n",
              "9     1/10\n",
              "10    1/10\n",
              "dtype: object"
            ]
          },
          "metadata": {},
          "execution_count": 24
        }
      ]
    },
    {
      "cell_type": "code",
      "source": [
        "# Corroboramos que la suma de todas las probailidades de 1.0\n",
        "probas = []\n",
        "for proba in list(leyS1):\n",
        "\n",
        "  probas.append(float(proba))\n",
        "\n",
        "print(\"Suma de la probabilidad de todos los eventos = \", sum(probas))"
      ],
      "metadata": {
        "id": "LfNxIxiRmAT-",
        "outputId": "7395490f-4a84-4b09-b71b-024446f4aa8f",
        "colab": {
          "base_uri": "https://localhost:8080/"
        }
      },
      "execution_count": 42,
      "outputs": [
        {
          "output_type": "stream",
          "name": "stdout",
          "text": [
            "Suma de la probabilidad de todos los eventos =  1.0\n"
          ]
        }
      ]
    },
    {
      "cell_type": "markdown",
      "source": [
        "**Ejercicio 2.**\n",
        "\n",
        "La suma de las caras sea par."
      ],
      "metadata": {
        "id": "WIP6kErMsPiX"
      }
    },
    {
      "cell_type": "code",
      "source": [
        "#Se exhiben todos los eventos que cumplan con la condición de que la suma de las caras sea par.\n",
        "Omega2 = {(i, j) for i in range (1, 7) for j in range (1, 7) if ((i + j) % 2 == 0)}\n",
        "Omega2"
      ],
      "metadata": {
        "id": "SBj10oELmAZl",
        "outputId": "9881dfdd-5dca-4aee-e600-0f4a12cc4e34",
        "colab": {
          "base_uri": "https://localhost:8080/"
        }
      },
      "execution_count": 44,
      "outputs": [
        {
          "output_type": "execute_result",
          "data": {
            "text/plain": [
              "{(1, 1),\n",
              " (1, 3),\n",
              " (1, 5),\n",
              " (2, 2),\n",
              " (2, 4),\n",
              " (2, 6),\n",
              " (3, 1),\n",
              " (3, 3),\n",
              " (3, 5),\n",
              " (4, 2),\n",
              " (4, 4),\n",
              " (4, 6),\n",
              " (5, 1),\n",
              " (5, 3),\n",
              " (5, 5),\n",
              " (6, 2),\n",
              " (6, 4),\n",
              " (6, 6)}"
            ]
          },
          "metadata": {},
          "execution_count": 44
        }
      ]
    },
    {
      "cell_type": "code",
      "source": [
        "# Se agrega la suma de las caras de los eventos anteriormente exhibidos\n",
        "S2 = {(i, j): i + j for i, j in Omega2}\n",
        "S2"
      ],
      "metadata": {
        "id": "rIfKqtGl2AEC",
        "outputId": "e188a37f-dd3b-4b68-8abb-4de0485b8f6d",
        "colab": {
          "base_uri": "https://localhost:8080/"
        }
      },
      "execution_count": 45,
      "outputs": [
        {
          "output_type": "execute_result",
          "data": {
            "text/plain": [
              "{(4, 4): 8,\n",
              " (2, 4): 6,\n",
              " (5, 5): 10,\n",
              " (6, 2): 8,\n",
              " (1, 5): 6,\n",
              " (3, 1): 4,\n",
              " (1, 1): 2,\n",
              " (4, 6): 10,\n",
              " (6, 6): 12,\n",
              " (5, 1): 6,\n",
              " (4, 2): 6,\n",
              " (6, 4): 10,\n",
              " (3, 3): 6,\n",
              " (2, 6): 8,\n",
              " (2, 2): 4,\n",
              " (5, 3): 8,\n",
              " (1, 3): 4,\n",
              " (3, 5): 8}"
            ]
          },
          "metadata": {},
          "execution_count": 45
        }
      ]
    },
    {
      "cell_type": "code",
      "source": [
        "# Agrupamos los eventos por la suma de los dados\n",
        "dS2 = defaultdict(set)\n",
        "\n",
        "for l2, v2 in S2.items():\n",
        "  dS2[v2].add(l2)\n",
        "\n",
        "dS2"
      ],
      "metadata": {
        "id": "wpY7fAKx2AG2",
        "outputId": "b8edc389-d59f-4f53-c2b3-75bcd10a034c",
        "colab": {
          "base_uri": "https://localhost:8080/"
        }
      },
      "execution_count": 46,
      "outputs": [
        {
          "output_type": "execute_result",
          "data": {
            "text/plain": [
              "defaultdict(set,\n",
              "            {8: {(2, 6), (3, 5), (4, 4), (5, 3), (6, 2)},\n",
              "             6: {(1, 5), (2, 4), (3, 3), (4, 2), (5, 1)},\n",
              "             10: {(4, 6), (5, 5), (6, 4)},\n",
              "             4: {(1, 3), (2, 2), (3, 1)},\n",
              "             2: {(1, 1)},\n",
              "             12: {(6, 6)}})"
            ]
          },
          "metadata": {},
          "execution_count": 46
        }
      ]
    },
    {
      "cell_type": "code",
      "source": [
        "# Agruopamos eventos con la suma de los dados y la Probabilidad asociada\n",
        "leyS2 = {k : P(A, Omega2) for k , A in dS2.items() }\n",
        "leyS2"
      ],
      "metadata": {
        "id": "SawrpZSn2AJs",
        "outputId": "92dca343-fe53-44b1-e9e8-271817e5f38c",
        "colab": {
          "base_uri": "https://localhost:8080/"
        }
      },
      "execution_count": 47,
      "outputs": [
        {
          "output_type": "execute_result",
          "data": {
            "text/plain": [
              "{8: Fraction(5, 18),\n",
              " 6: Fraction(5, 18),\n",
              " 10: Fraction(1, 6),\n",
              " 4: Fraction(1, 6),\n",
              " 2: Fraction(1, 18),\n",
              " 12: Fraction(1, 18)}"
            ]
          },
          "metadata": {},
          "execution_count": 47
        }
      ]
    },
    {
      "cell_type": "code",
      "source": [
        "# Generamos una serie de pandas con ordenamiento de la suma de los dados y sus Probabilidades\n",
        "leyS2 = pd.Series(leyS2)\n",
        "leyS2 = leyS2.sort_index()\n",
        "leyS2"
      ],
      "metadata": {
        "id": "frIvOvLV2AMP",
        "outputId": "c140ecb9-9862-4f3f-f42f-e34ed430626b",
        "colab": {
          "base_uri": "https://localhost:8080/"
        }
      },
      "execution_count": 48,
      "outputs": [
        {
          "output_type": "execute_result",
          "data": {
            "text/plain": [
              "2     1/18\n",
              "4      1/6\n",
              "6     5/18\n",
              "8     5/18\n",
              "10     1/6\n",
              "12    1/18\n",
              "dtype: object"
            ]
          },
          "metadata": {},
          "execution_count": 48
        }
      ]
    },
    {
      "cell_type": "code",
      "source": [
        "# Corroboramos que la suma de todas las probailidades de 1.0\n",
        "probas = []\n",
        "for proba in list(leyS2):\n",
        "\n",
        "  probas.append(float(proba))\n",
        "\n",
        "print(\"Suma de la probabilidad de todos los eventos = \", sum(probas))"
      ],
      "metadata": {
        "id": "vTrf8AQW2APF",
        "outputId": "ddc538f1-24d8-46d9-de3e-343f7161282c",
        "colab": {
          "base_uri": "https://localhost:8080/"
        }
      },
      "execution_count": 49,
      "outputs": [
        {
          "output_type": "stream",
          "name": "stdout",
          "text": [
            "Suma de la probabilidad de todos los eventos =  1.0\n"
          ]
        }
      ]
    }
  ]
}